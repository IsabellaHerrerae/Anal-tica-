{
  "nbformat": 4,
  "nbformat_minor": 0,
  "metadata": {
    "colab": {
      "provenance": [],
      "authorship_tag": "ABX9TyNyfpUJRkkrahnnFT9T8Pfx",
      "include_colab_link": true
    },
    "kernelspec": {
      "name": "python3",
      "display_name": "Python 3"
    },
    "language_info": {
      "name": "python"
    }
  },
  "cells": [
    {
      "cell_type": "markdown",
      "metadata": {
        "id": "view-in-github",
        "colab_type": "text"
      },
      "source": [
        "<a href=\"https://colab.research.google.com/github/IsabellaHerrerae/Anal-tica-/blob/main/1_NaiveBayes.ipynb\" target=\"_parent\"><img src=\"https://colab.research.google.com/assets/colab-badge.svg\" alt=\"Open In Colab\"/></a>"
      ]
    },
    {
      "cell_type": "code",
      "execution_count": null,
      "metadata": {
        "id": "w8BLiQyihtFS"
      },
      "outputs": [],
      "source": []
    },
    {
      "cell_type": "markdown",
      "source": [
        "# Sección nueva"
      ],
      "metadata": {
        "id": "AODahM09xXoO"
      }
    },
    {
      "cell_type": "markdown",
      "source": [
        "**Modelo de preaprobación - Naive Bayes**\n",
        "0. Se procede con ña carga de las librerias de trabajo\n"
      ],
      "metadata": {
        "id": "W3APgYGhiYSD"
      }
    },
    {
      "cell_type": "code",
      "source": [
        "import numpy as np #Funciones Matemáticas\n",
        "import pandas as pd #Comunicación con Excel\n",
        "from sklearn.naive_bayes import GaussianNB #Función Gaussiana\n",
        "from sklearn.metrics import confusion_matrix #Métricas de medida\n",
        "\n",
        "\n"
      ],
      "metadata": {
        "id": "VNrxQvSjiz75"
      },
      "execution_count": null,
      "outputs": []
    },
    {
      "cell_type": "markdown",
      "source": [
        "1. Se cargan los datos\n"
      ],
      "metadata": {
        "id": "2HEd6Gn5kSDU"
      }
    },
    {
      "cell_type": "code",
      "source": [
        "nxl='/content/0. SolicitantesCrédito(USD).xlsx'\n",
        "XDB=pd.read_excel(nxl,sheet_name=2) #Traigo los datos\n",
        "XDB.dropna() #eliminat datos faltantes, celdas vacias\n",
        "\n",
        "#Seleccionar las variables de interés\n",
        "XDB=XDB[['Edad','Ingresos','Egresos','Cuota (COP)','PreApr']]\n",
        "\n",
        "\n",
        "#Datos de entrada - np.array() - convertir a numeros\n",
        "XD=np.array(XDB[['Edad','Ingresos','Egresos','Cuota (COP)']])\n",
        "#Datos de salida -valor deseado - que quiero que aprenda el modelo\n",
        "yd=np.array(XDB['PreApr'])\n",
        "\n",
        "print(XDB) #Mostart la base de datos\n",
        "\n"
      ],
      "metadata": {
        "colab": {
          "base_uri": "https://localhost:8080/"
        },
        "id": "A-SnzTqckWsO",
        "outputId": "216425f6-7dd7-41b2-d64a-4b1953284aa7"
      },
      "execution_count": null,
      "outputs": [
        {
          "output_type": "stream",
          "name": "stdout",
          "text": [
            "      Edad    Ingresos      Egresos  Cuota (COP)  PreApr\n",
            "0       38  1356.14400  1685.622667    18.375890       1\n",
            "1       51   286.01600   364.462000     5.062492       1\n",
            "2       37   517.46325   629.208889    10.287688       0\n",
            "3       29   473.27000   551.616889    15.458878       1\n",
            "4       42   750.09175   806.715778    24.995180       1\n",
            "...    ...         ...          ...          ...     ...\n",
            "5837    48  1207.84800   753.801111    27.043503       1\n",
            "5838    31  1472.77200   953.812889    25.579568       1\n",
            "5839    38   773.01975   672.910667    21.508792       1\n",
            "5840    43   635.50175   780.691556    11.047468       1\n",
            "5841    37  1419.26675  1169.838444    36.356182       1\n",
            "\n",
            "[5842 rows x 5 columns]\n"
          ]
        }
      ]
    },
    {
      "cell_type": "markdown",
      "source": [
        "2. Implementos Modelo"
      ],
      "metadata": {
        "id": "5EqUaqvvn0v5"
      }
    },
    {
      "cell_type": "code",
      "source": [
        "mnb=GaussianNB() #Llamamos el modelo\n",
        "mnb.fit(XD,yd) #Entrenamos el modelo\n",
        "ydp=mnb.predict(XD) #Muestra los datos de salida - pero que el obtuvo\n",
        "\n",
        "#Digame las medias de las variables para cada categoria - PreApr/PreNeg\n",
        "u=mnb.theta_ #Se estiman las medidas\n",
        "sigma=np.sqrt(mnb.var_) #Se estiman las desviaciones\n",
        "\n",
        "#Las variaciones del las variables\n",
        "LI=u-sigma\n",
        "LS=u+sigma\n",
        "\n",
        "print('La media de las variables por categoría:')\n",
        "print(u)\n",
        "print('El limite inferior de la variación de las variables por categoria es:')\n",
        "print(LI)\n",
        "print('El limite superior de la variación de las variables por categoria es:')\n",
        "print(LS)\n",
        "\n",
        "\n",
        "#Métrica de evaluación - cómo se comportó el modelo identificando la PreApr-PreNeg\n",
        "cm=confusion_matrix(yd,ydp)\n",
        "print('La matriz de confusión es:')\n",
        "print(cm)"
      ],
      "metadata": {
        "id": "nPLlx8ITn2ud",
        "colab": {
          "base_uri": "https://localhost:8080/"
        },
        "outputId": "bfa6f3d4-e35c-425e-92fb-c611c2913ec6"
      },
      "execution_count": null,
      "outputs": [
        {
          "output_type": "stream",
          "name": "stdout",
          "text": [
            "La media de las variables por categoría:\n",
            "[[  40.98411626  431.42680644  401.54995644   16.88529983]\n",
            " [  41.10752688 1029.98947251  900.19312144   43.3269839 ]]\n",
            "El limite inferior de la variación de las variables por categoria es:\n",
            "[[ 28.77108358 105.62889147  58.77709557 -12.88412769]\n",
            " [ 28.85646196 557.55604444 374.75974307 -21.65436704]]\n",
            "El limite superior de la variación de las variables por categoria es:\n",
            "[[  53.19714893  757.22472141  744.32281731   46.65472735]\n",
            " [  53.35859181 1502.42290058 1425.62649981  108.30833484]]\n",
            "La matriz de confusión es:\n",
            "[[2563  396]\n",
            " [1192 1691]]\n"
          ]
        }
      ]
    },
    {
      "cell_type": "markdown",
      "source": [
        "3. Se procede con la evaluación del modelo"
      ],
      "metadata": {
        "id": "MRhruTbu7Y5N"
      }
    },
    {
      "cell_type": "code",
      "source": [
        "VN=cm[0,0] #Verdaderos negativos - Que tanto acierto tuvo el modelo frente a los que se les negó el crédito\n",
        "FP=cm[0,1] #Falsos positivos\n",
        "FN=cm[1,0] #Falso negativo -\n",
        "VP=cm[1,1] #Verdadero positivo\n",
        "\n",
        "Exactitud=(VN+VP)/len(XD) #len(XD) es el total de los datos\n",
        "print(' La Exactitud es:', Exactitud) #comportamiento general\n",
        "\n",
        "\n",
        "TE=(FN+FP)/len(XD)\n",
        "print('El Tasa de Error es:',TE)\n",
        "\n",
        "Sensibilidad=VP/(VP+FP)\n",
        "print('La Sensibilidad es:',Sensibilidad) #Como se comporto frente a los positivos\n",
        "\n",
        "Especificidad=VN/(VN+FN)\n",
        "print('La Especificidad es:',Especificidad) #Como se comportaron frente a los negativos\n",
        "\n",
        "Precision=VP/(VP+FN)\n",
        "print('La Precisión es:',Precision) #cómo le pego a clasificados positivos\n",
        "\n",
        "PredNeg=VN/(VN+FP)\n",
        "print('La probabilidad de negativo es:',PredNeg) #como le pegó a los negativos"
      ],
      "metadata": {
        "colab": {
          "base_uri": "https://localhost:8080/"
        },
        "id": "BwbQgh617b-5",
        "outputId": "39c7253f-b003-4211-b288-16f23caa0bf2"
      },
      "execution_count": null,
      "outputs": [
        {
          "output_type": "stream",
          "name": "stdout",
          "text": [
            " La Exactitud es: 0.7281752824375214\n",
            "El Tasa de Error es: 0.2718247175624786\n",
            "La Sensibilidad es: 0.8102539530426449\n",
            "La Especificidad es: 0.6825565912117177\n",
            "La Precisión es: 0.5865417967395075\n",
            "La probabilidad de negativo es: 0.8661710037174721\n"
          ]
        }
      ]
    },
    {
      "cell_type": "markdown",
      "source": [
        "4. Qué pasa con una sola persona"
      ],
      "metadata": {
        "id": "sFDB5pLg7l5E"
      }
    },
    {
      "cell_type": "code",
      "source": [
        "Xun=np.array([[38,1356,1686,18]]) #Esta es la persona del Excel\n",
        "ydun=mnb.predict(Xun) #Muestra los datos de salida - pero que el obtuvo\n",
        "print(ydun)"
      ],
      "metadata": {
        "colab": {
          "base_uri": "https://localhost:8080/"
        },
        "id": "L2kj-0v_7pva",
        "outputId": "b30a6c95-bce8-4c7b-f484-1abac6c546ca"
      },
      "execution_count": null,
      "outputs": [
        {
          "output_type": "stream",
          "name": "stdout",
          "text": [
            "[1]\n"
          ]
        }
      ]
    },
    {
      "cell_type": "markdown",
      "source": [
        "Análisis de resultados:\n",
        "\n",
        "de los resultados arrojados por el modelo, se puede observar que los preaprobados en general presentan edades (), ingresos() , egresos() y cuotas mayores a los aprobados. Con respecto a las métricas, se puede observar que el modelo funcionó mejor clasificando los positivos, como dice el indicador de sensibilidad el cual alcanzó el 81% de certeza. De manera general se puede ibsevar que el modelo logró una exactitud que se ubicó por encima del 70% en promedio, y una tasa de error al 30% en promedio. De manera general, esta exactitud lo convierte en un buen modelo. Con respecto al solicitante de crédito tal y tal este pertenece a la categoria de aprobado."
      ],
      "metadata": {
        "id": "pRi1utXc7sMQ"
      }
    },
    {
      "cell_type": "markdown",
      "source": [],
      "metadata": {
        "id": "b7606T1J7tJq"
      }
    }
  ]
}