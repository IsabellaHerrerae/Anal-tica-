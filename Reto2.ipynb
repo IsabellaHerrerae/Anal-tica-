{
  "nbformat": 4,
  "nbformat_minor": 0,
  "metadata": {
    "colab": {
      "provenance": [],
      "mount_file_id": "16gtO_cbUvCIPV7BK2nlPNko9vutOdVro",
      "authorship_tag": "ABX9TyM2GN50zK6VZJmVD9rQBsKa",
      "include_colab_link": true
    },
    "kernelspec": {
      "name": "python3",
      "display_name": "Python 3"
    },
    "language_info": {
      "name": "python"
    }
  },
  "cells": [
    {
      "cell_type": "markdown",
      "metadata": {
        "id": "view-in-github",
        "colab_type": "text"
      },
      "source": [
        "<a href=\"https://colab.research.google.com/github/IsabellaHerrerae/Anal-tica-/blob/main/Reto2.ipynb\" target=\"_parent\"><img src=\"https://colab.research.google.com/assets/colab-badge.svg\" alt=\"Open In Colab\"/></a>"
      ]
    },
    {
      "cell_type": "code",
      "execution_count": null,
      "metadata": {
        "id": "mIi680kDK8ry"
      },
      "outputs": [],
      "source": []
    },
    {
      "cell_type": "markdown",
      "source": [
        "0. Descargar bibliotecas"
      ],
      "metadata": {
        "id": "-rq6G_d6LUv3"
      }
    },
    {
      "cell_type": "code",
      "source": [
        "import numpy as np\n",
        "import pandas as pd\n",
        "import matplotlib.pyplot as plt\n",
        "from sklearn.tree import DecisionTreeClassifier"
      ],
      "metadata": {
        "id": "frsJuk91LYTT"
      },
      "execution_count": null,
      "outputs": []
    },
    {
      "cell_type": "markdown",
      "source": [
        "1. Traer las bases de datos"
      ],
      "metadata": {
        "id": "U5GzVawbLbtd"
      }
    },
    {
      "cell_type": "code",
      "source": [
        "from google.colab import drive\n",
        "drive.mount('/content/drive')\n",
        "\n",
        "nxl='/content/drive/MyDrive/Colab Notebooks/2. BD1_Travel_Data_int.xlsx'\n",
        "XDB=pd.read_excel(nxl, sheet_name=0)\n",
        "XDB=XDB.dropna()\n",
        "XDB.head(100)\n",
        "\n",
        "XD=np.array(XDB[['College','FoodSpend','Income','TravelSpend']]) #Estos son los datos de entrada\n",
        "yd=np.array(XDB['CreditCard']) #Esta es la variable de salida y el dato que quiro que el modelo pronostique"
      ],
      "metadata": {
        "colab": {
          "base_uri": "https://localhost:8080/"
        },
        "id": "NrcyMIO2LiKU",
        "outputId": "4c6deb21-02ff-43f2-f49a-d281a8ba0caf"
      },
      "execution_count": null,
      "outputs": [
        {
          "output_type": "stream",
          "name": "stdout",
          "text": [
            "Drive already mounted at /content/drive; to attempt to forcibly remount, call drive.mount(\"/content/drive\", force_remount=True).\n"
          ]
        }
      ]
    },
    {
      "cell_type": "markdown",
      "source": [
        "2. Creación del modelo (Decision Tree)"
      ],
      "metadata": {
        "id": "qUsSBS__MMyD"
      }
    },
    {
      "cell_type": "code",
      "source": [
        "mar=DecisionTreeClassifier(criterion='gini',max_depth=4) #4 niveles o variables de entrada\n",
        "mar.fit(XD,yd)\n",
        "ydp=mar.predict(XD)\n",
        "\n",
        "from sklearn.metrics import confusion_matrix\n",
        "cm=confusion_matrix(yd,ydp)\n",
        "print(cm)\n",
        "\n",
        "#Para evalaur el modelo usamos La matriz de confusión, y esta es: 0,0=Verdaderos negavtivos - 1,1=Verdaderos postivos - 0,1=Falsos negativos y 1,0=Falso Positivo\n",
        "VN=cm[0,0]\n",
        "print(\"Verdaderos negativos =\",VN)\n",
        "FP=cm[0,1]\n",
        "print(\"Falsos positivos =\",FP)\n",
        "FN=cm[1,0]\n",
        "print(\"Falsos negativos =\",FN)\n",
        "VP=cm[1,1]\n",
        "print(\"Verdaderos positivos =\",VP)\n",
        "\n",
        "Ex=(VN+VP)/(VN+VP+FN+FP) #Cuantos datos o que porcentaje de estos, fueron pronosticados correctamente\n",
        "print(\"La exactitud alcanzada por el modelo es:\",Ex)\n",
        "Se=VP/(FN+VP) # Sensiilidad = Como le fue con los positivos\n",
        "print(\"La sensibilidad alcanzada por el modelo es:\",Se)\n",
        "Sp=VN/(VN+FP) # Especificidad = Como le fue con los negativos\n",
        "print(\"La especificidad alcanzada por el modelo es:\",Sp)"
      ],
      "metadata": {
        "colab": {
          "base_uri": "https://localhost:8080/"
        },
        "id": "21kh_dZzMUGT",
        "outputId": "587e8983-25c6-41e1-cfef-4d3aad4f3f44"
      },
      "execution_count": null,
      "outputs": [
        {
          "output_type": "stream",
          "name": "stdout",
          "text": [
            "[[334   9]\n",
            " [ 42 115]]\n",
            "Verdaderos negativos = 334\n",
            "Falsos positivos = 9\n",
            "Falsos negativos = 42\n",
            "Verdaderos positivos = 115\n",
            "La exactitud alcanzada por el modelo es: 0.898\n",
            "La sensibilidad alcanzada por el modelo es: 0.732484076433121\n",
            "La especificidad alcanzada por el modelo es: 0.9737609329446064\n"
          ]
        }
      ]
    },
    {
      "cell_type": "markdown",
      "source": [
        "3, Encontrar el árbol"
      ],
      "metadata": {
        "id": "AnJUaj8NMZZx"
      }
    },
    {
      "cell_type": "code",
      "source": [
        "from sklearn.tree import export_graphviz\n",
        "from pydotplus import graph_from_dot_data\n",
        "\n",
        "vs=['College','FoodSpend','Income','TravelSpend']\n",
        "dot_graph=export_graphviz(mar,feature_names=vs)\n",
        "graph=graph_from_dot_data(dot_graph)\n",
        "graph.write_png('arbol.png')"
      ],
      "metadata": {
        "colab": {
          "base_uri": "https://localhost:8080/"
        },
        "id": "Yzgf0t_lMfhs",
        "outputId": "debe85f0-806d-4dcd-85d1-25928ffafc79"
      },
      "execution_count": null,
      "outputs": [
        {
          "output_type": "execute_result",
          "data": {
            "text/plain": [
              "True"
            ]
          },
          "metadata": {},
          "execution_count": 5
        }
      ]
    },
    {
      "cell_type": "markdown",
      "source": [
        "4. Encontrar la probabilidad de gastos de los nuevos clientes\n",
        "la base de datos Travel_Plan_Score, Cuál es la probabilidad de que el primer cliente utilizará la tarjeta de crédito para el pago de los gastos de viaje y de los alimentos en sus planes de viajar el próximo año, y Cuál es la probabilidad para el segundo cliente."
      ],
      "metadata": {
        "id": "DOWKUy86MiCk"
      }
    },
    {
      "cell_type": "code",
      "source": [
        "\n",
        "XDB2=pd.read_excel(nxl, sheet_name=1)\n",
        "XDB2=XDB2.dropna()\n",
        "XDB2.head(100)\n",
        "\n",
        "XD2=np.array(XDB2[['College','FoodSpend','Income','TravelSpend']]) #Estos son los datos de entrada\n",
        "print(XD2)\n",
        "\n",
        "yd2=mar.predict(XD2)\n",
        "print(yd2)\n",
        "print(np.sum(yd2))\n",
        "print(len(yd2)-np.sum(yd2))\n",
        "print(len(yd2))"
      ],
      "metadata": {
        "id": "iQkSD1ofM0ea",
        "colab": {
          "base_uri": "https://localhost:8080/"
        },
        "outputId": "8c406703-440e-4942-e1e7-1e97c5aa3eea"
      },
      "execution_count": null,
      "outputs": [
        {
          "output_type": "stream",
          "name": "stdout",
          "text": [
            "[[0.00000e+00 2.89290e+03 6.59820e+04 2.15160e+03]\n",
            " [1.00000e+00 6.01766e+03 5.39860e+04 2.00250e+03]]\n",
            "[0 0]\n",
            "0\n",
            "2\n",
            "2\n"
          ]
        }
      ]
    },
    {
      "cell_type": "markdown",
      "source": [
        "5.\n",
        "El árbol de decisión descrito utiliza las variables TravelSpend (gasto en viajes), Income (ingreso) y FoodSpend (gasto en alimentos) para predecir si un cliente usará su tarjeta de crédito para pagar gastos de viaje y alimentos. El modelo tiene una exactitud general del 89.8%, lo que significa que clasifica correctamente la mayoría de los casos y lo hace un buen modelo. Además de esto, presenta una sensibilidad del 73.2%, indicando que identifica correctamente el 73.2% de los casos positivos, y una especificidad del 97.3%, mostrando que identifica correctamente el 97.3% de los casos negativos.\n",
        "\n",
        "Para los nuevos clientes, el modelo predice que el primer cliente tiene un 100% de probabilidad de usar la tarjeta de crédito, ya que pertenece a un nodo puro donde todos los datos (108 casos) corresponden a clientes que usan la tarjeta. Este cliente sigue la regla de negocio: Si TravelSpend es ≥ 1556 e Income es > 5998. Por otro lado, el segundo cliente tiene un 79% de probabilidad de no usar la tarjeta y un 21% de probabilidad de que sí lo haga, con un Gini de 0.336. Este cliente sigue la regla: Si TravelSpend es ≥ 1567 e Income es < 59098, FoodSpend > 2711 y TravelSpend ≤ 3008.\n",
        "\n",
        "Además, se identificaron nodos puros en el modelo, como el nodo (0,47), donde TravelSpend < 1188 y FoodSpend > 4990, y el nodo (1,0), donde TravelSpend < 1188 y FoodSpend > 4972, además del nodo (108,0) mencionado anteriormente. Estos nodos representan decisiones claras y sin ambigüedad sobre el uso o no de la tarjeta de crédito.\n",
        "\n"
      ],
      "metadata": {
        "id": "ZNcToMtflTHl"
      }
    }
  ]
}